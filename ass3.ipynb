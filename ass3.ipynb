{
 "cells": [
  {
   "cell_type": "code",
   "execution_count": 8,
   "id": "2e044b91-32e1-4d29-b679-b2249ef17ff1",
   "metadata": {},
   "outputs": [
    {
     "name": "stdout",
     "output_type": "stream",
     "text": [
      "[('virat kholi', 24396), ('jack kallis', 25534), ('ricky ponting', 27483), ('sachin tendulkar', 34357)]\n"
     ]
    }
   ],
   "source": [
    "#q1\n",
    "l=[('sachin tendulkar',34357),('ricky ponting',27483),('jack kallis',25534),('virat kholi',24396)]\n",
    "\n",
    "l.sort(key=lambda x: x[1])\n",
    "print(l)"
   ]
  },
  {
   "cell_type": "code",
   "execution_count": 11,
   "id": "ee94ef6c-d22b-404c-9fce-40f9deb4f50c",
   "metadata": {},
   "outputs": [
    {
     "data": {
      "text/plain": [
       "[1, 4, 9, 16, 25, 36, 49, 64, 81, 100]"
      ]
     },
     "execution_count": 11,
     "metadata": {},
     "output_type": "execute_result"
    }
   ],
   "source": [
    "#q2\n",
    "n=[1,2,3,4,5,6,7,8,9,10]\n",
    "list(map(lambda x : x**2,n))"
   ]
  },
  {
   "cell_type": "code",
   "execution_count": 17,
   "id": "8f4f2e55-3793-4d36-b104-4c61f4ffb0b6",
   "metadata": {},
   "outputs": [
    {
     "name": "stdout",
     "output_type": "stream",
     "text": [
      "('1', '2', '3', '4', '5', '6', '7', '8', '9', '10')\n"
     ]
    }
   ],
   "source": [
    "#q3\n",
    "l=[1,2,3,4,5,6,7,8,9,10]\n",
    "t=tuple(map(str,l))\n",
    "print(t)"
   ]
  },
  {
   "cell_type": "code",
   "execution_count": 22,
   "id": "a8fc273e-b060-4b21-b878-c4130a025e86",
   "metadata": {},
   "outputs": [
    {
     "data": {
      "text/plain": [
       "15511210043330985984000000"
      ]
     },
     "execution_count": 22,
     "metadata": {},
     "output_type": "execute_result"
    }
   ],
   "source": [
    "#q4\n",
    "from functools import reduce\n",
    "l=[1,2,3,4,5,6,7,8,9,10,11,12,13,14,15,16,17,18,19,20,21,22,23,24,25]\n",
    "reduce(lambda x,y:x*y,l)\n",
    "\n",
    "\n"
   ]
  },
  {
   "cell_type": "code",
   "execution_count": 25,
   "id": "f00d6cf7-a818-4fb1-8b07-34bfd76584cf",
   "metadata": {},
   "outputs": [
    {
     "data": {
      "text/plain": [
       "[6, 60, 90, 120]"
      ]
     },
     "execution_count": 25,
     "metadata": {},
     "output_type": "execute_result"
    }
   ],
   "source": [
    "#q5\n",
    "l=[2, 3, 6, 9, 27, 60, 90, 120, 55, 46]\n",
    "list(filter(lambda x: x%2==0 and x%3==0 ,l))"
   ]
  },
  {
   "cell_type": "code",
   "execution_count": 59,
   "id": "71ce1ada-3301-4756-a2cf-f6cff72792f8",
   "metadata": {},
   "outputs": [
    {
     "name": "stdout",
     "output_type": "stream",
     "text": [
      "['php', 'aba', 'radar', 'level']\n"
     ]
    }
   ],
   "source": [
    "#q6\n",
    "l=['python', 'php', 'aba', 'radar', 'level']\n",
    "result = list(filter(lambda x:(x==x[-1::-1]),l))\n",
    "print(result)"
   ]
  },
  {
   "cell_type": "code",
   "execution_count": null,
   "id": "5495febc-1919-4073-8b44-0135394dfd05",
   "metadata": {},
   "outputs": [],
   "source": []
  },
  {
   "cell_type": "code",
   "execution_count": null,
   "id": "5fb8b452-e9e8-4f82-b401-4e2d715d8cb0",
   "metadata": {},
   "outputs": [],
   "source": [
    "\n",
    "\n"
   ]
  },
  {
   "cell_type": "code",
   "execution_count": null,
   "id": "b80eb8b2-93c9-470b-8202-730be93513d7",
   "metadata": {},
   "outputs": [],
   "source": []
  }
 ],
 "metadata": {
  "kernelspec": {
   "display_name": "Python 3 (ipykernel)",
   "language": "python",
   "name": "python3"
  },
  "language_info": {
   "codemirror_mode": {
    "name": "ipython",
    "version": 3
   },
   "file_extension": ".py",
   "mimetype": "text/x-python",
   "name": "python",
   "nbconvert_exporter": "python",
   "pygments_lexer": "ipython3",
   "version": "3.10.8"
  }
 },
 "nbformat": 4,
 "nbformat_minor": 5
}
